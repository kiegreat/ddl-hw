{
 "cells": [
  {
   "cell_type": "markdown",
   "metadata": {},
   "source": [
    "## Надо посчитать\n",
    "\n",
    "1. Для каждого пользователя число таких сделок, у которых с момента открытия до\n",
    "момента полного закрытия прошло меньше одной минуты\n",
    "\n",
    "2. Для каждого пользователя найти число таких пар сделок, которые удовлетворяют\n",
    "следующим условиям:\n",
    "- Сделки совершены этим пользователем\n",
    "- Разница между временем их открытия не более 30 секунд\n",
    "- Направление этих сделок – противоположное (одна на покупку, другая на\n",
    "продажу)\n",
    "\n",
    "3. Мысленно разобьем все время на равные промежутки по 30 секунд. Найти среди всех\n",
    "возможных пар пользователей такие, у которых более 10 сделок удовлетворяют\n",
    "условиям:\n",
    "- Открытия сделок попали в один промежуток времени\n",
    "- Они открыты по одному и тому же инструменту\n",
    "- Они принадлежат разным пользователям (одна одному пользователю из пары,\n",
    "другая другому)\n",
    "- Они открыты в разных направлениях (одна на покупку, другая на продажу)"
   ]
  },
  {
   "cell_type": "markdown",
   "metadata": {},
   "source": [
    "## Результат\n",
    "\n",
    "Скрипт на питоне, который создает:\n",
    "1. csv файл в котором каждому логину соответствует 1 строка. Колонки – login, метрика из\n",
    "пункта 1 и метрика из пункта 2\n",
    "2. csv файл в котором перечислены все пары из пункта 3"
   ]
  },
  {
   "cell_type": "code",
   "execution_count": 1,
   "metadata": {},
   "outputs": [
    {
     "name": "stderr",
     "output_type": "stream",
     "text": [
      "c:\\Users\\user\\Anaconda3\\lib\\site-packages\\dash_bootstrap_components\\_table.py:5: UserWarning: \n",
      "The dash_html_components package is deprecated. Please replace\n",
      "`import dash_html_components as html` with `from dash import html`\n",
      "  import dash_html_components as html\n"
     ]
    }
   ],
   "source": [
    "import pandas as pd\n",
    "import toml\n",
    "from sqlalchemy import create_engine\n",
    "\n",
    "# импорт для визуализации графовых данных\n",
    "from jaal import Jaal"
   ]
  },
  {
   "cell_type": "code",
   "execution_count": 2,
   "metadata": {},
   "outputs": [],
   "source": [
    "config = toml.load('config.toml')\n",
    "\n",
    "PG_HOST = config['host']\n",
    "PG_PORT = config['port']\n",
    "PG_USER = config['user']\n",
    "PG_PASSWORD = config['password']"
   ]
  },
  {
   "cell_type": "code",
   "execution_count": 3,
   "metadata": {},
   "outputs": [],
   "source": [
    "URL = f\"postgresql://{PG_USER}:{PG_PASSWORD}@{PG_HOST}:{PG_PORT }/postgres\""
   ]
  },
  {
   "cell_type": "code",
   "execution_count": 4,
   "metadata": {},
   "outputs": [],
   "source": [
    "engine = create_engine(URL)"
   ]
  },
  {
   "cell_type": "markdown",
   "metadata": {},
   "source": [
    "### 1. Приведем данные из MT4 и MT5 к единому формату\n",
    "\n",
    "Данные будут использовать несколько раз, поэтому создадим временную таблицу"
   ]
  },
  {
   "cell_type": "code",
   "execution_count": 5,
   "metadata": {},
   "outputs": [
    {
     "data": {
      "text/plain": [
       "<sqlalchemy.engine.cursor.LegacyCursorResult at 0x26b84c6f9d0>"
      ]
     },
     "execution_count": 5,
     "metadata": {},
     "output_type": "execute_result"
    }
   ],
   "source": [
    "engine.execute(\"DROP TABLE IF EXISTS joint_mt_mt5_data\")\n",
    "engine.execute(\"\"\"\n",
    "CREATE TEMP TABLE joint_mt_mt5_data AS\n",
    "\tWITH positions_filter_mt4 AS (\n",
    "\t\tSELECT positionid\n",
    "\t\tFROM hr_vacancies.mt4_marked_trades\n",
    "\t\tWHERE 1=1\n",
    "\t\tAND get_bit(\"type\"::bytea, 0) != 1\n",
    "\t),\n",
    "\tpositions_filter_mt5 AS (\n",
    "\t\tSELECT positionid\n",
    "\t\tFROM hr_vacancies.mt5_marked_trades\n",
    "\t\tWHERE 1=1\n",
    "\t\tAND get_bit(\"type\"::bytea, 0) != 1\n",
    "\t)\n",
    "\tSELECT \n",
    "\t\tlogin,\n",
    "\t\tpositionid,\n",
    "\t\tcmd,\n",
    "\t\tsymbol,\n",
    "\t\topen_time::timestamp AS open_time,\n",
    "\t\tclose_time::timestamp AS close_time\n",
    "\tFROM hr_vacancies.mt4_trades AS a\n",
    "\tJOIN positions_filter_mt4 AS b\n",
    "\tON a.ticket = b.positionid\n",
    "\tUNION ALL\n",
    "\tSELECT \n",
    "\t\tlogin,\n",
    "\t\ta.positionid,\n",
    "\t\t\"action\" AS cmd,\n",
    "\t\tsymbol,\n",
    "\t\tmin(CASE WHEN \"action\" = '0' THEN time::timestamp ELSE '2000-01-01'::date END) AS open_time,\n",
    "\t\tmax(CASE WHEN \"action\" = '1' THEN time::timestamp ELSE '2999-01-01'::date END) AS close_time\n",
    "\tFROM hr_vacancies.mt5_deals AS a\n",
    "\tJOIN positions_filter_mt5 AS b\n",
    "\tON a.positionid = b.positionid\n",
    "\tWHERE 1=1\n",
    "\tAND \"entry\" IN ('0', '1')\n",
    "\tGROUP BY 1,2,3,4\n",
    "\"\"\")"
   ]
  },
  {
   "cell_type": "markdown",
   "metadata": {},
   "source": [
    "### 2. Задание 1\n",
    "\n",
    "Посчитать метрики на каждого пользователя:\n",
    "1. Число сделок, у которых с момента открытия до момента полного закрытия прошло меньше одной минуты\n",
    "2. Число пар сделок, которые удовлетворяют условиям:\n",
    "    - Сделки совершены этим пользователем\n",
    "    - Разница между временем их открытия не более 30 секунд\n",
    "    - Направление этих сделок – противоположное (одна на покупку, другая на продажу)"
   ]
  },
  {
   "cell_type": "code",
   "execution_count": 6,
   "metadata": {},
   "outputs": [],
   "source": [
    "SQL_1 = \"\"\"\n",
    "WITH metric_1_cte AS (\n",
    "\tSELECT \n",
    "\t\tlogin, \n",
    "\t\tsum(CASE WHEN close_time - open_time < INTERVAL '1 minute' THEN 1 ELSE 0 END) AS n_quick_positions -- число быстрых сделок (с открытия до полного закрытия < 1 минуты)\n",
    "\tFROM joint_mt_mt5_data\n",
    "\tWHERE 1=1\n",
    "\tGROUP BY 1\n",
    "),\n",
    "metric_2_cte AS (\n",
    "\tSELECT \n",
    "\t\ta.login,\n",
    "\t\tcount(DISTINCT GREATEST(a.positionid, b.positionid) || '_' || LEAST(a.positionid, b.positionid)) AS n_position_pairs\n",
    "\tFROM joint_mt_mt5_data AS a\n",
    "\tJOIN joint_mt_mt5_data AS b -- почти кросс-джойн; потенциальная отпимизация: джойнить по отдельности каждого пользователя в цикле\n",
    "\tON a.login = b.login\n",
    "\tWHERE 1=1\n",
    "\tAND a.positionid != b.positionid\n",
    "\tAND GREATEST(a.open_time, b.open_time) - LEAST(a.open_time, b.open_time) < INTERVAL '30 seconds' -- разница между временем открытия сделок не более 30 секунд\n",
    "\tAND a.cmd != b.cmd -- направление этих сделок – противоположное\n",
    "\tGROUP BY 1\n",
    ")\n",
    "SELECT\n",
    "\ta.login, \n",
    "\ta.n_quick_positions AS metric_1,\n",
    "\tCOALESCE(b.n_position_pairs, 0) AS metric_2\n",
    "FROM metric_1_cte AS a\n",
    "LEFT JOIN metric_2_cte AS b\n",
    "ON a.login = b.login\n",
    "\"\"\""
   ]
  },
  {
   "cell_type": "code",
   "execution_count": 7,
   "metadata": {},
   "outputs": [],
   "source": [
    "df1 = pd.read_sql_query(SQL_1, con=engine)"
   ]
  },
  {
   "cell_type": "code",
   "execution_count": 8,
   "metadata": {},
   "outputs": [
    {
     "data": {
      "text/plain": [
       "(399, 3)"
      ]
     },
     "execution_count": 8,
     "metadata": {},
     "output_type": "execute_result"
    }
   ],
   "source": [
    "df1.shape"
   ]
  },
  {
   "cell_type": "code",
   "execution_count": 9,
   "metadata": {},
   "outputs": [
    {
     "data": {
      "text/html": [
       "<div>\n",
       "<style scoped>\n",
       "    .dataframe tbody tr th:only-of-type {\n",
       "        vertical-align: middle;\n",
       "    }\n",
       "\n",
       "    .dataframe tbody tr th {\n",
       "        vertical-align: top;\n",
       "    }\n",
       "\n",
       "    .dataframe thead th {\n",
       "        text-align: right;\n",
       "    }\n",
       "</style>\n",
       "<table border=\"1\" class=\"dataframe\">\n",
       "  <thead>\n",
       "    <tr style=\"text-align: right;\">\n",
       "      <th></th>\n",
       "      <th>login</th>\n",
       "      <th>metric_1</th>\n",
       "      <th>metric_2</th>\n",
       "    </tr>\n",
       "  </thead>\n",
       "  <tbody>\n",
       "    <tr>\n",
       "      <th>0</th>\n",
       "      <td>290455359</td>\n",
       "      <td>0</td>\n",
       "      <td>3</td>\n",
       "    </tr>\n",
       "    <tr>\n",
       "      <th>1</th>\n",
       "      <td>290465121</td>\n",
       "      <td>5</td>\n",
       "      <td>1</td>\n",
       "    </tr>\n",
       "    <tr>\n",
       "      <th>2</th>\n",
       "      <td>290533431</td>\n",
       "      <td>1</td>\n",
       "      <td>1</td>\n",
       "    </tr>\n",
       "    <tr>\n",
       "      <th>3</th>\n",
       "      <td>290566631</td>\n",
       "      <td>0</td>\n",
       "      <td>1</td>\n",
       "    </tr>\n",
       "    <tr>\n",
       "      <th>4</th>\n",
       "      <td>290586134</td>\n",
       "      <td>2</td>\n",
       "      <td>1</td>\n",
       "    </tr>\n",
       "  </tbody>\n",
       "</table>\n",
       "</div>"
      ],
      "text/plain": [
       "       login  metric_1  metric_2\n",
       "0  290455359         0         3\n",
       "1  290465121         5         1\n",
       "2  290533431         1         1\n",
       "3  290566631         0         1\n",
       "4  290586134         2         1"
      ]
     },
     "execution_count": 9,
     "metadata": {},
     "output_type": "execute_result"
    }
   ],
   "source": [
    "df1.head()"
   ]
  },
  {
   "cell_type": "markdown",
   "metadata": {},
   "source": [
    "### 3. Задание 2\n",
    "\n",
    "Найти все возможные пары пользователей, у которых более 10 сделок удовлетворяют условиям:\n",
    "- Открытия сделок попали в один промежуток времени\n",
    "- Они открыты по одному и тому же инструменту\n",
    "- Они принадлежат разным пользователям (одна одному пользователю из пары, другая другому)\n",
    "- Они открыты в разных направлениях (одна на покупку, другая на продажу)"
   ]
  },
  {
   "cell_type": "code",
   "execution_count": 10,
   "metadata": {},
   "outputs": [],
   "source": [
    "SQL_2 = \"\"\"\n",
    "WITH metric_3_cte AS (\n",
    "\tSELECT DISTINCT\n",
    "\t\tGREATEST(a.login, b.login) AS user_1,\n",
    "\t\tLEAST(a.login, b.login) AS user_2,\n",
    "\t\tGREATEST(a.positionid, b.positionid) AS position_1,\n",
    "\t\tLEAST(a.positionid, b.positionid) AS position_2\n",
    "\tFROM joint_mt_mt5_data AS a\n",
    "\tCROSS JOIN joint_mt_mt5_data AS b -- данных мало, поэтому кросс-джойн - ОК; потенциальная отпимизация: джойнить по отдельности каждого пользователя в цикле \n",
    "\tWHERE 1=1\n",
    "\tAND a.login != b.login -- принадлежат разным пользователям\n",
    "\tAND a.symbol = b.symbol -- открыты по одному и тому же инструменту\n",
    "\tAND a.cmd != b.cmd -- открыты в разных направлениях (одна на покупку, другая на продажу)\n",
    "\tAND date_bin('30 seconds', a.open_time, '2000-01-01'::date) = date_bin('30 seconds', b.open_time, '2000-01-01'::date) -- открытия сделок попали в один промежуток времени\n",
    ")\n",
    "SELECT user_1, user_2\n",
    "FROM metric_3_cte\n",
    "GROUP BY 1,2\n",
    "HAVING count(*) > 10\n",
    "\"\"\""
   ]
  },
  {
   "cell_type": "code",
   "execution_count": 11,
   "metadata": {},
   "outputs": [],
   "source": [
    "df2 = pd.read_sql_query(SQL_2, con=engine)"
   ]
  },
  {
   "cell_type": "code",
   "execution_count": 12,
   "metadata": {},
   "outputs": [
    {
     "data": {
      "text/plain": [
       "(14, 2)"
      ]
     },
     "execution_count": 12,
     "metadata": {},
     "output_type": "execute_result"
    }
   ],
   "source": [
    "df2.shape"
   ]
  },
  {
   "cell_type": "code",
   "execution_count": 13,
   "metadata": {},
   "outputs": [
    {
     "data": {
      "text/html": [
       "<div>\n",
       "<style scoped>\n",
       "    .dataframe tbody tr th:only-of-type {\n",
       "        vertical-align: middle;\n",
       "    }\n",
       "\n",
       "    .dataframe tbody tr th {\n",
       "        vertical-align: top;\n",
       "    }\n",
       "\n",
       "    .dataframe thead th {\n",
       "        text-align: right;\n",
       "    }\n",
       "</style>\n",
       "<table border=\"1\" class=\"dataframe\">\n",
       "  <thead>\n",
       "    <tr style=\"text-align: right;\">\n",
       "      <th></th>\n",
       "      <th>user_1</th>\n",
       "      <th>user_2</th>\n",
       "    </tr>\n",
       "  </thead>\n",
       "  <tbody>\n",
       "    <tr>\n",
       "      <th>0</th>\n",
       "      <td>290675276</td>\n",
       "      <td>21929150</td>\n",
       "    </tr>\n",
       "    <tr>\n",
       "      <th>1</th>\n",
       "      <td>290465121</td>\n",
       "      <td>18673759</td>\n",
       "    </tr>\n",
       "    <tr>\n",
       "      <th>2</th>\n",
       "      <td>290622568</td>\n",
       "      <td>22198100</td>\n",
       "    </tr>\n",
       "    <tr>\n",
       "      <th>3</th>\n",
       "      <td>290675276</td>\n",
       "      <td>22595940</td>\n",
       "    </tr>\n",
       "    <tr>\n",
       "      <th>4</th>\n",
       "      <td>290665483</td>\n",
       "      <td>22571075</td>\n",
       "    </tr>\n",
       "  </tbody>\n",
       "</table>\n",
       "</div>"
      ],
      "text/plain": [
       "      user_1    user_2\n",
       "0  290675276  21929150\n",
       "1  290465121  18673759\n",
       "2  290622568  22198100\n",
       "3  290675276  22595940\n",
       "4  290665483  22571075"
      ]
     },
     "execution_count": 13,
     "metadata": {},
     "output_type": "execute_result"
    }
   ],
   "source": [
    "df2.head()"
   ]
  },
  {
   "cell_type": "code",
   "execution_count": 14,
   "metadata": {},
   "outputs": [
    {
     "name": "stdout",
     "output_type": "stream",
     "text": [
      "Parsing the data...Done\n"
     ]
    },
    {
     "data": {
      "text/html": [
       "\n",
       "        <iframe\n",
       "            width=\"100%\"\n",
       "            height=\"650\"\n",
       "            src=\"http://127.0.0.1:8050/\"\n",
       "            frameborder=\"0\"\n",
       "            allowfullscreen\n",
       "        ></iframe>\n",
       "        "
      ],
      "text/plain": [
       "<IPython.lib.display.IFrame at 0x26b92424f10>"
      ]
     },
     "metadata": {},
     "output_type": "display_data"
    }
   ],
   "source": [
    "Jaal(df2.rename(columns={'user_1': 'from', 'user_2': 'to'})).plot()"
   ]
  },
  {
   "cell_type": "markdown",
   "metadata": {},
   "source": [
    "### 4. Сохраняем данные в .csv"
   ]
  },
  {
   "cell_type": "code",
   "execution_count": 15,
   "metadata": {},
   "outputs": [
    {
     "name": "stdout",
     "output_type": "stream",
     "text": [
      "No trigger\n"
     ]
    }
   ],
   "source": [
    "df1.to_csv('task_1.csv', index=False)\n",
    "df2.to_csv('task_2.csv', index=False)"
   ]
  }
 ],
 "metadata": {
  "kernelspec": {
   "display_name": "base",
   "language": "python",
   "name": "python3"
  },
  "language_info": {
   "codemirror_mode": {
    "name": "ipython",
    "version": 3
   },
   "file_extension": ".py",
   "mimetype": "text/x-python",
   "name": "python",
   "nbconvert_exporter": "python",
   "pygments_lexer": "ipython3",
   "version": "3.8.8"
  }
 },
 "nbformat": 4,
 "nbformat_minor": 2
}
